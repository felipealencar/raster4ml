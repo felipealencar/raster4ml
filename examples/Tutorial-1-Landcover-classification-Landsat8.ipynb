{
 "cells": [
  {
   "cell_type": "markdown",
   "metadata": {},
   "source": [
    "# Tutorial 1: Landcover Classification using Landsat 8"
   ]
  },
  {
   "cell_type": "code",
   "execution_count": 1,
   "metadata": {},
   "outputs": [],
   "source": [
    "import sys  \n",
    "sys.path.insert(0, r'F:\\raster4ml')"
   ]
  },
  {
   "cell_type": "code",
   "execution_count": 2,
   "metadata": {},
   "outputs": [],
   "source": [
    "import os\n",
    "import glob\n",
    "from raster4ml.preprocessing import stack_bands\n",
    "from raster4ml.plotting import Map\n",
    "from raster4ml.features import VegetationIndices\n",
    "from raster4ml.extraction import batch_extract_values_by_points"
   ]
  },
  {
   "cell_type": "markdown",
   "metadata": {},
   "source": [
    "## 1. Stack the Bands"
   ]
  },
  {
   "cell_type": "markdown",
   "metadata": {},
   "source": [
    "First we need to stack all the bands together and make a multispectral image file. The mutispectral image will contain several channels/bands representing reflectance information from different wavelengths. Since the test dataset is downloaded from a Landsat 8 satellite, there are total 11 bands. However, we will only use the first 7 bands as they can accurately define most of the surface objects in terms of reflectance."
   ]
  },
  {
   "cell_type": "markdown",
   "metadata": {},
   "source": [
    "To stack the seperate bands into one image, we need to define the paths of all the bands in chronological order (actually any order you want, but remember the orders for future reference)."
   ]
  },
  {
   "cell_type": "code",
   "execution_count": null,
   "metadata": {},
   "outputs": [],
   "source": [
    "# Filter all the files that ends with .TIF\n",
    "image_dir = r'F:\\raster4ml\\data\\landsat\\LC08_L1TP_137045_20210317_20210328_01_T1'\n",
    "\n",
    "# Empty list to hold the first 7 bands' paths\n",
    "bands_to_stack = []\n",
    "# Loop through 7 times\n",
    "for i in range(7):\n",
    "    bands_to_stack.append(os.path.join(image_dir,\n",
    "                                       f'LC08_L1TP_137045_20210317_20210328_01_T1_B{i+1}.TIF'))\n",
    "bands_to_stack"
   ]
  },
  {
   "cell_type": "code",
   "execution_count": null,
   "metadata": {},
   "outputs": [],
   "source": [
    "# Use the stack_bands function from raster4ml to do the stacking\n",
    "stack_bands(image_paths=bands_to_stack,\n",
    "            out_file=os.path.join(image_dir, 'Stack.tif'))"
   ]
  },
  {
   "cell_type": "markdown",
   "metadata": {},
   "source": [
    "Let's visualize the image usign the plotting functionality of raster4ml."
   ]
  },
  {
   "cell_type": "code",
   "execution_count": null,
   "metadata": {},
   "outputs": [],
   "source": [
    "# Define the map instance\n",
    "m = Map()"
   ]
  },
  {
   "cell_type": "code",
   "execution_count": null,
   "metadata": {},
   "outputs": [],
   "source": [
    "# Add the raster to the map\n",
    "m.add_raster(image_path=os.path.join(image_dir, 'Stack.tif'), bands=[4, 3, 2])"
   ]
  },
  {
   "cell_type": "code",
   "execution_count": null,
   "metadata": {},
   "outputs": [],
   "source": [
    "m"
   ]
  },
  {
   "cell_type": "markdown",
   "metadata": {},
   "source": [
    "## 2. Calculate Vegetation Indices"
   ]
  },
  {
   "cell_type": "markdown",
   "metadata": {},
   "source": [
    "In next step, we need to calculate the vegetation indices from the stacked image. We can do this using `raster4ml.features.VegetationIndices` object. You can provide a list of vegetation index we need to calculate in the object, but the tool can automatically calcualte all the possible vegetation index rasters.  \n",
    "\n",
    "To do this, we need to provide the path of the stacked image, the corresponding wavelength values and an output directory to save all the indices as rasters. Since this is a Landsat 8 OLI image, we know the band wavelengths. The wavelengths can be inserted as either the `center_wavelengths` as list or the range of wavelengths per band in a list of list. The wavelengths has to be specified in nanometers (nm). The Landsat 8 OLI wavelengths can be seen [here](https://www.usgs.gov/faqs/what-are-band-designations-landsat-satellites).  \n",
    "\n",
    "*Optionally we can provide the `bit_depth` as a parameter. Since we know Landsat 8 data is a 12-bit data, we can provide this information to normalize the image values from 0 to 1."
   ]
  },
  {
   "cell_type": "code",
   "execution_count": null,
   "metadata": {},
   "outputs": [],
   "source": [
    "# Define the VegetationIndices object\n",
    "VI = VegetationIndices(image_path=r'F:\\raster4ml\\data\\landsat\\LC08_L1TP_137045_20210317_20210328_01_T1\\Stack.tif',\n",
    "                       wavelengths=[[430, 450], [450, 510], [530, 590], [640, 670], [850, 880], [1570, 1650], [2110, 2290]],\n",
    "                       bit_depth=12)"
   ]
  },
  {
   "cell_type": "code",
   "execution_count": null,
   "metadata": {},
   "outputs": [],
   "source": [
    "# Run the process while providing the output directory\n",
    "VI.calculate(out_dir=r'F:\\raster4ml\\data\\landsat\\LC08_L1TP_137045_20210317_20210328_01_T1\\VIs')"
   ]
  },
  {
   "cell_type": "markdown",
   "metadata": {},
   "source": [
    "Visualize any one of the index to see if the result is ok or not."
   ]
  },
  {
   "cell_type": "code",
   "execution_count": null,
   "metadata": {},
   "outputs": [],
   "source": [
    "# Add the raster to the map\n",
    "m.add_raster(image_path=r'F:\\raster4ml\\data\\landsat\\LC08_L1TP_137045_20210317_20210328_01_T1\\VIs\\NDVI.tif')"
   ]
  },
  {
   "cell_type": "code",
   "execution_count": null,
   "metadata": {},
   "outputs": [],
   "source": [
    "m"
   ]
  },
  {
   "cell_type": "markdown",
   "metadata": {},
   "source": [
    "## 3. Extract Values based on Sample Points"
   ]
  },
  {
   "cell_type": "markdown",
   "metadata": {},
   "source": [
    "Locate the sample point shapefile in the `data/shapes` folder. The name of the shapefile is `points.shp`. We need to extract the vegetation index values underneath each point in the shapefile and store those index values for Machine Learning training. The shapefile also contains label information. For simplicity, it only has two distinct classes, i.e., `Vegetation` and `Water`.  \n",
    "\n",
    "For extraction by points, we can use the `raster4ml.extraction.batch_extract_values_by_points` function. This will enable extraction of multiple raster data at once. The function takes `image_paths` as a list, `shape_path` as a string, and a `unique_id` in the shapefile which uniquely represent each point. The function returns a pandas dataframe."
   ]
  },
  {
   "cell_type": "code",
   "execution_count": null,
   "metadata": {},
   "outputs": [],
   "source": [
    "# Visualize the shapefile onto the map\n",
    "m.add_shape(shape_path=r'F:\\raster4ml\\data\\landsat\\LC08_L1TP_137045_20210317_20210328_01_T1\\shapes\\points.shp', layer_control=True)"
   ]
  },
  {
   "cell_type": "code",
   "execution_count": null,
   "metadata": {},
   "outputs": [],
   "source": [
    "m"
   ]
  },
  {
   "cell_type": "code",
   "execution_count": 3,
   "metadata": {},
   "outputs": [
    {
     "data": {
      "text/plain": [
       "['F:\\\\raster4ml\\\\data\\\\landsat\\\\LC08_L1TP_137045_20210317_20210328_01_T1\\\\VIs\\\\ARI_1.tif',\n",
       " 'F:\\\\raster4ml\\\\data\\\\landsat\\\\LC08_L1TP_137045_20210317_20210328_01_T1\\\\VIs\\\\ARI_2.tif',\n",
       " 'F:\\\\raster4ml\\\\data\\\\landsat\\\\LC08_L1TP_137045_20210317_20210328_01_T1\\\\VIs\\\\ARVI.tif',\n",
       " 'F:\\\\raster4ml\\\\data\\\\landsat\\\\LC08_L1TP_137045_20210317_20210328_01_T1\\\\VIs\\\\CRI_1.tif',\n",
       " 'F:\\\\raster4ml\\\\data\\\\landsat\\\\LC08_L1TP_137045_20210317_20210328_01_T1\\\\VIs\\\\CRI_2.tif',\n",
       " 'F:\\\\raster4ml\\\\data\\\\landsat\\\\LC08_L1TP_137045_20210317_20210328_01_T1\\\\VIs\\\\DVI.tif',\n",
       " 'F:\\\\raster4ml\\\\data\\\\landsat\\\\LC08_L1TP_137045_20210317_20210328_01_T1\\\\VIs\\\\EVI.tif',\n",
       " 'F:\\\\raster4ml\\\\data\\\\landsat\\\\LC08_L1TP_137045_20210317_20210328_01_T1\\\\VIs\\\\GARI.tif',\n",
       " 'F:\\\\raster4ml\\\\data\\\\landsat\\\\LC08_L1TP_137045_20210317_20210328_01_T1\\\\VIs\\\\GCI.tif',\n",
       " 'F:\\\\raster4ml\\\\data\\\\landsat\\\\LC08_L1TP_137045_20210317_20210328_01_T1\\\\VIs\\\\GDVI.tif',\n",
       " 'F:\\\\raster4ml\\\\data\\\\landsat\\\\LC08_L1TP_137045_20210317_20210328_01_T1\\\\VIs\\\\GEMI.tif',\n",
       " 'F:\\\\raster4ml\\\\data\\\\landsat\\\\LC08_L1TP_137045_20210317_20210328_01_T1\\\\VIs\\\\GLI.tif',\n",
       " 'F:\\\\raster4ml\\\\data\\\\landsat\\\\LC08_L1TP_137045_20210317_20210328_01_T1\\\\VIs\\\\GNDVI.tif',\n",
       " 'F:\\\\raster4ml\\\\data\\\\landsat\\\\LC08_L1TP_137045_20210317_20210328_01_T1\\\\VIs\\\\GRVI.tif',\n",
       " 'F:\\\\raster4ml\\\\data\\\\landsat\\\\LC08_L1TP_137045_20210317_20210328_01_T1\\\\VIs\\\\GSAVI.tif',\n",
       " 'F:\\\\raster4ml\\\\data\\\\landsat\\\\LC08_L1TP_137045_20210317_20210328_01_T1\\\\VIs\\\\GVI.tif',\n",
       " 'F:\\\\raster4ml\\\\data\\\\landsat\\\\LC08_L1TP_137045_20210317_20210328_01_T1\\\\VIs\\\\IPVI.tif',\n",
       " 'F:\\\\raster4ml\\\\data\\\\landsat\\\\LC08_L1TP_137045_20210317_20210328_01_T1\\\\VIs\\\\MCARI.tif',\n",
       " 'F:\\\\raster4ml\\\\data\\\\landsat\\\\LC08_L1TP_137045_20210317_20210328_01_T1\\\\VIs\\\\MNDWI.tif',\n",
       " 'F:\\\\raster4ml\\\\data\\\\landsat\\\\LC08_L1TP_137045_20210317_20210328_01_T1\\\\VIs\\\\MNLI.tif',\n",
       " 'F:\\\\raster4ml\\\\data\\\\landsat\\\\LC08_L1TP_137045_20210317_20210328_01_T1\\\\VIs\\\\MRENDVI.tif',\n",
       " 'F:\\\\raster4ml\\\\data\\\\landsat\\\\LC08_L1TP_137045_20210317_20210328_01_T1\\\\VIs\\\\MRESR.tif',\n",
       " 'F:\\\\raster4ml\\\\data\\\\landsat\\\\LC08_L1TP_137045_20210317_20210328_01_T1\\\\VIs\\\\MSAVI_2.tif',\n",
       " 'F:\\\\raster4ml\\\\data\\\\landsat\\\\LC08_L1TP_137045_20210317_20210328_01_T1\\\\VIs\\\\MSI.tif',\n",
       " 'F:\\\\raster4ml\\\\data\\\\landsat\\\\LC08_L1TP_137045_20210317_20210328_01_T1\\\\VIs\\\\MSR.tif',\n",
       " 'F:\\\\raster4ml\\\\data\\\\landsat\\\\LC08_L1TP_137045_20210317_20210328_01_T1\\\\VIs\\\\MTVI.tif',\n",
       " 'F:\\\\raster4ml\\\\data\\\\landsat\\\\LC08_L1TP_137045_20210317_20210328_01_T1\\\\VIs\\\\NBR.tif',\n",
       " 'F:\\\\raster4ml\\\\data\\\\landsat\\\\LC08_L1TP_137045_20210317_20210328_01_T1\\\\VIs\\\\NDBI.tif',\n",
       " 'F:\\\\raster4ml\\\\data\\\\landsat\\\\LC08_L1TP_137045_20210317_20210328_01_T1\\\\VIs\\\\NDII.tif',\n",
       " 'F:\\\\raster4ml\\\\data\\\\landsat\\\\LC08_L1TP_137045_20210317_20210328_01_T1\\\\VIs\\\\NDSI.tif',\n",
       " 'F:\\\\raster4ml\\\\data\\\\landsat\\\\LC08_L1TP_137045_20210317_20210328_01_T1\\\\VIs\\\\NDVI.tif',\n",
       " 'F:\\\\raster4ml\\\\data\\\\landsat\\\\LC08_L1TP_137045_20210317_20210328_01_T1\\\\VIs\\\\NLI.tif',\n",
       " 'F:\\\\raster4ml\\\\data\\\\landsat\\\\LC08_L1TP_137045_20210317_20210328_01_T1\\\\VIs\\\\NMDI.tif',\n",
       " 'F:\\\\raster4ml\\\\data\\\\landsat\\\\LC08_L1TP_137045_20210317_20210328_01_T1\\\\VIs\\\\OSAVI.tif',\n",
       " 'F:\\\\raster4ml\\\\data\\\\landsat\\\\LC08_L1TP_137045_20210317_20210328_01_T1\\\\VIs\\\\PRI.tif',\n",
       " 'F:\\\\raster4ml\\\\data\\\\landsat\\\\LC08_L1TP_137045_20210317_20210328_01_T1\\\\VIs\\\\PSRI.tif',\n",
       " 'F:\\\\raster4ml\\\\data\\\\landsat\\\\LC08_L1TP_137045_20210317_20210328_01_T1\\\\VIs\\\\RDVI.tif',\n",
       " 'F:\\\\raster4ml\\\\data\\\\landsat\\\\LC08_L1TP_137045_20210317_20210328_01_T1\\\\VIs\\\\RENDVI.tif',\n",
       " 'F:\\\\raster4ml\\\\data\\\\landsat\\\\LC08_L1TP_137045_20210317_20210328_01_T1\\\\VIs\\\\SAVI.tif',\n",
       " 'F:\\\\raster4ml\\\\data\\\\landsat\\\\LC08_L1TP_137045_20210317_20210328_01_T1\\\\VIs\\\\SIPI.tif',\n",
       " 'F:\\\\raster4ml\\\\data\\\\landsat\\\\LC08_L1TP_137045_20210317_20210328_01_T1\\\\VIs\\\\SR_1.tif',\n",
       " 'F:\\\\raster4ml\\\\data\\\\landsat\\\\LC08_L1TP_137045_20210317_20210328_01_T1\\\\VIs\\\\TCARI.tif',\n",
       " 'F:\\\\raster4ml\\\\data\\\\landsat\\\\LC08_L1TP_137045_20210317_20210328_01_T1\\\\VIs\\\\TDVI.tif',\n",
       " 'F:\\\\raster4ml\\\\data\\\\landsat\\\\LC08_L1TP_137045_20210317_20210328_01_T1\\\\VIs\\\\TVI.tif',\n",
       " 'F:\\\\raster4ml\\\\data\\\\landsat\\\\LC08_L1TP_137045_20210317_20210328_01_T1\\\\VIs\\\\VARI.tif',\n",
       " 'F:\\\\raster4ml\\\\data\\\\landsat\\\\LC08_L1TP_137045_20210317_20210328_01_T1\\\\VIs\\\\VREI_1.tif',\n",
       " 'F:\\\\raster4ml\\\\data\\\\landsat\\\\LC08_L1TP_137045_20210317_20210328_01_T1\\\\VIs\\\\VREI_2.tif',\n",
       " 'F:\\\\raster4ml\\\\data\\\\landsat\\\\LC08_L1TP_137045_20210317_20210328_01_T1\\\\VIs\\\\WDRVI.tif']"
      ]
     },
     "execution_count": 3,
     "metadata": {},
     "output_type": "execute_result"
    }
   ],
   "source": [
    "# Find the paths of all the vegetation indices\n",
    "vi_paths = glob.glob(r'F:\\raster4ml\\data\\landsat\\LC08_L1TP_137045_20210317_20210328_01_T1\\VIs\\*.tif')\n",
    "vi_paths"
   ]
  },
  {
   "cell_type": "code",
   "execution_count": 4,
   "metadata": {},
   "outputs": [
    {
     "name": "stderr",
     "output_type": "stream",
     "text": [
      "100%|███████████████████████████████████████████████████████████████████████████████████████████████████████| 48/48 [00:29<00:00,  1.62it/s]"
     ]
    },
    {
     "name": "stdout",
     "output_type": "stream",
     "text": [
      "6 columns were removed from the dataframe as they had duplicated values.\n"
     ]
    },
    {
     "name": "stderr",
     "output_type": "stream",
     "text": [
      "\n"
     ]
    }
   ],
   "source": [
    "# Batch extract values by points\n",
    "values = batch_extract_values_by_points(image_paths=vi_paths,\n",
    "                                        shape_path=r'F:\\raster4ml\\data\\landsat\\LC08_L1TP_137045_20210317_20210328_01_T1\\shapes\\points.shp',\n",
    "                                        unique_id='UID')"
   ]
  },
  {
   "cell_type": "code",
   "execution_count": 5,
   "metadata": {},
   "outputs": [
    {
     "data": {
      "text/html": [
       "<div>\n",
       "<style scoped>\n",
       "    .dataframe tbody tr th:only-of-type {\n",
       "        vertical-align: middle;\n",
       "    }\n",
       "\n",
       "    .dataframe tbody tr th {\n",
       "        vertical-align: top;\n",
       "    }\n",
       "\n",
       "    .dataframe thead th {\n",
       "        text-align: right;\n",
       "    }\n",
       "</style>\n",
       "<table border=\"1\" class=\"dataframe\">\n",
       "  <thead>\n",
       "    <tr style=\"text-align: right;\">\n",
       "      <th></th>\n",
       "      <th>ARI_1</th>\n",
       "      <th>ARI_2</th>\n",
       "      <th>ARVI</th>\n",
       "      <th>CRI_1</th>\n",
       "      <th>CRI_2</th>\n",
       "      <th>DVI</th>\n",
       "      <th>EVI</th>\n",
       "      <th>GARI</th>\n",
       "      <th>GCI</th>\n",
       "      <th>GDVI</th>\n",
       "      <th>...</th>\n",
       "      <th>PSRI</th>\n",
       "      <th>RDVI</th>\n",
       "      <th>SAVI</th>\n",
       "      <th>SIPI</th>\n",
       "      <th>SR_1</th>\n",
       "      <th>TCARI</th>\n",
       "      <th>TDVI</th>\n",
       "      <th>TVI</th>\n",
       "      <th>VARI</th>\n",
       "      <th>WDRVI</th>\n",
       "    </tr>\n",
       "  </thead>\n",
       "  <tbody>\n",
       "    <tr>\n",
       "      <th>0</th>\n",
       "      <td>-0.062945</td>\n",
       "      <td>-0.108279</td>\n",
       "      <td>0.234300</td>\n",
       "      <td>-0.065647</td>\n",
       "      <td>-0.128593</td>\n",
       "      <td>-0.199707</td>\n",
       "      <td>0.102306</td>\n",
       "      <td>0.213949</td>\n",
       "      <td>-0.212297</td>\n",
       "      <td>-0.463623</td>\n",
       "      <td>...</td>\n",
       "      <td>-0.327823</td>\n",
       "      <td>-0.104673</td>\n",
       "      <td>-0.072355</td>\n",
       "      <td>5.270171</td>\n",
       "      <td>0.895982</td>\n",
       "      <td>0.158350</td>\n",
       "      <td>-0.129161</td>\n",
       "      <td>10.556641</td>\n",
       "      <td>0.169782</td>\n",
       "      <td>-0.696070</td>\n",
       "    </tr>\n",
       "    <tr>\n",
       "      <th>1</th>\n",
       "      <td>-0.081763</td>\n",
       "      <td>-0.139712</td>\n",
       "      <td>0.224136</td>\n",
       "      <td>-0.051108</td>\n",
       "      <td>-0.132871</td>\n",
       "      <td>-0.245361</td>\n",
       "      <td>0.114394</td>\n",
       "      <td>0.191005</td>\n",
       "      <td>-0.265274</td>\n",
       "      <td>-0.616943</td>\n",
       "      <td>...</td>\n",
       "      <td>-0.350700</td>\n",
       "      <td>-0.128203</td>\n",
       "      <td>-0.088411</td>\n",
       "      <td>4.550249</td>\n",
       "      <td>0.874438</td>\n",
       "      <td>0.222949</td>\n",
       "      <td>-0.158764</td>\n",
       "      <td>14.863281</td>\n",
       "      <td>0.226522</td>\n",
       "      <td>-0.702291</td>\n",
       "    </tr>\n",
       "    <tr>\n",
       "      <th>2</th>\n",
       "      <td>-0.078562</td>\n",
       "      <td>-0.133685</td>\n",
       "      <td>0.156079</td>\n",
       "      <td>-0.039564</td>\n",
       "      <td>-0.118126</td>\n",
       "      <td>-0.395264</td>\n",
       "      <td>0.175768</td>\n",
       "      <td>0.120093</td>\n",
       "      <td>-0.322182</td>\n",
       "      <td>-0.808838</td>\n",
       "      <td>...</td>\n",
       "      <td>-0.329258</td>\n",
       "      <td>-0.202804</td>\n",
       "      <td>-0.137928</td>\n",
       "      <td>3.162446</td>\n",
       "      <td>0.811503</td>\n",
       "      <td>0.248145</td>\n",
       "      <td>-0.252982</td>\n",
       "      <td>16.542969</td>\n",
       "      <td>0.227230</td>\n",
       "      <td>-0.720725</td>\n",
       "    </tr>\n",
       "    <tr>\n",
       "      <th>3</th>\n",
       "      <td>0.000882</td>\n",
       "      <td>0.003013</td>\n",
       "      <td>0.162228</td>\n",
       "      <td>-0.010190</td>\n",
       "      <td>-0.009307</td>\n",
       "      <td>0.729492</td>\n",
       "      <td>-14.067797</td>\n",
       "      <td>0.142689</td>\n",
       "      <td>0.274649</td>\n",
       "      <td>0.735840</td>\n",
       "      <td>...</td>\n",
       "      <td>-0.025636</td>\n",
       "      <td>0.295349</td>\n",
       "      <td>0.165779</td>\n",
       "      <td>0.693106</td>\n",
       "      <td>1.271636</td>\n",
       "      <td>-0.003809</td>\n",
       "      <td>0.283973</td>\n",
       "      <td>-0.253906</td>\n",
       "      <td>-0.002432</td>\n",
       "      <td>-0.594480</td>\n",
       "    </tr>\n",
       "    <tr>\n",
       "      <th>4</th>\n",
       "      <td>-0.037863</td>\n",
       "      <td>-0.067416</td>\n",
       "      <td>-0.005319</td>\n",
       "      <td>-0.026779</td>\n",
       "      <td>-0.064642</td>\n",
       "      <td>-0.605957</td>\n",
       "      <td>0.372762</td>\n",
       "      <td>-0.028112</td>\n",
       "      <td>-0.321329</td>\n",
       "      <td>-0.843018</td>\n",
       "      <td>...</td>\n",
       "      <td>-0.182404</td>\n",
       "      <td>-0.296846</td>\n",
       "      <td>-0.194758</td>\n",
       "      <td>1.968574</td>\n",
       "      <td>0.746087</td>\n",
       "      <td>0.142236</td>\n",
       "      <td>-0.369330</td>\n",
       "      <td>9.482422</td>\n",
       "      <td>0.108334</td>\n",
       "      <td>-0.740315</td>\n",
       "    </tr>\n",
       "    <tr>\n",
       "      <th>...</th>\n",
       "      <td>...</td>\n",
       "      <td>...</td>\n",
       "      <td>...</td>\n",
       "      <td>...</td>\n",
       "      <td>...</td>\n",
       "      <td>...</td>\n",
       "      <td>...</td>\n",
       "      <td>...</td>\n",
       "      <td>...</td>\n",
       "      <td>...</td>\n",
       "      <td>...</td>\n",
       "      <td>...</td>\n",
       "      <td>...</td>\n",
       "      <td>...</td>\n",
       "      <td>...</td>\n",
       "      <td>...</td>\n",
       "      <td>...</td>\n",
       "      <td>...</td>\n",
       "      <td>...</td>\n",
       "      <td>...</td>\n",
       "      <td>...</td>\n",
       "    </tr>\n",
       "    <tr>\n",
       "      <th>95</th>\n",
       "      <td>-0.060378</td>\n",
       "      <td>-0.227981</td>\n",
       "      <td>0.509099</td>\n",
       "      <td>-0.041061</td>\n",
       "      <td>-0.101440</td>\n",
       "      <td>1.830078</td>\n",
       "      <td>-2.642041</td>\n",
       "      <td>0.461469</td>\n",
       "      <td>0.712546</td>\n",
       "      <td>1.571045</td>\n",
       "      <td>...</td>\n",
       "      <td>-0.245922</td>\n",
       "      <td>0.765082</td>\n",
       "      <td>0.441218</td>\n",
       "      <td>0.607924</td>\n",
       "      <td>1.940527</td>\n",
       "      <td>0.155420</td>\n",
       "      <td>0.671681</td>\n",
       "      <td>10.361328</td>\n",
       "      <td>0.150049</td>\n",
       "      <td>-0.440813</td>\n",
       "    </tr>\n",
       "    <tr>\n",
       "      <th>96</th>\n",
       "      <td>-0.053707</td>\n",
       "      <td>-0.094210</td>\n",
       "      <td>0.223083</td>\n",
       "      <td>-0.068999</td>\n",
       "      <td>-0.122705</td>\n",
       "      <td>-0.169678</td>\n",
       "      <td>0.092413</td>\n",
       "      <td>0.214349</td>\n",
       "      <td>-0.182408</td>\n",
       "      <td>-0.391357</td>\n",
       "      <td>...</td>\n",
       "      <td>-0.309010</td>\n",
       "      <td>-0.088475</td>\n",
       "      <td>-0.060919</td>\n",
       "      <td>5.771223</td>\n",
       "      <td>0.911802</td>\n",
       "      <td>0.133008</td>\n",
       "      <td>-0.108518</td>\n",
       "      <td>8.867188</td>\n",
       "      <td>0.142925</td>\n",
       "      <td>-0.691532</td>\n",
       "    </tr>\n",
       "    <tr>\n",
       "      <th>97</th>\n",
       "      <td>-0.044730</td>\n",
       "      <td>-0.080789</td>\n",
       "      <td>0.011139</td>\n",
       "      <td>-0.021725</td>\n",
       "      <td>-0.066455</td>\n",
       "      <td>-0.544189</td>\n",
       "      <td>0.341630</td>\n",
       "      <td>-0.021856</td>\n",
       "      <td>-0.312326</td>\n",
       "      <td>-0.820312</td>\n",
       "      <td>...</td>\n",
       "      <td>-0.185104</td>\n",
       "      <td>-0.266923</td>\n",
       "      <td>-0.175300</td>\n",
       "      <td>2.073127</td>\n",
       "      <td>0.768464</td>\n",
       "      <td>0.165674</td>\n",
       "      <td>-0.330165</td>\n",
       "      <td>11.044922</td>\n",
       "      <td>0.126003</td>\n",
       "      <td>-0.733564</td>\n",
       "    </tr>\n",
       "    <tr>\n",
       "      <th>98</th>\n",
       "      <td>-0.015176</td>\n",
       "      <td>-0.029507</td>\n",
       "      <td>-0.061845</td>\n",
       "      <td>-0.015265</td>\n",
       "      <td>-0.030441</td>\n",
       "      <td>-0.604248</td>\n",
       "      <td>0.607601</td>\n",
       "      <td>-0.080921</td>\n",
       "      <td>-0.266599</td>\n",
       "      <td>-0.706787</td>\n",
       "      <td>...</td>\n",
       "      <td>-0.084108</td>\n",
       "      <td>-0.285070</td>\n",
       "      <td>-0.181531</td>\n",
       "      <td>1.575758</td>\n",
       "      <td>0.762908</td>\n",
       "      <td>0.061523</td>\n",
       "      <td>-0.346838</td>\n",
       "      <td>4.101562</td>\n",
       "      <td>0.042080</td>\n",
       "      <td>-0.735235</td>\n",
       "    </tr>\n",
       "    <tr>\n",
       "      <th>99</th>\n",
       "      <td>-0.010707</td>\n",
       "      <td>-0.039700</td>\n",
       "      <td>0.225351</td>\n",
       "      <td>-0.006250</td>\n",
       "      <td>-0.016957</td>\n",
       "      <td>1.082520</td>\n",
       "      <td>-18.352650</td>\n",
       "      <td>0.195860</td>\n",
       "      <td>0.372650</td>\n",
       "      <td>1.006592</td>\n",
       "      <td>...</td>\n",
       "      <td>-0.046592</td>\n",
       "      <td>0.430161</td>\n",
       "      <td>0.237638</td>\n",
       "      <td>0.740189</td>\n",
       "      <td>1.412350</td>\n",
       "      <td>0.045557</td>\n",
       "      <td>0.395307</td>\n",
       "      <td>3.037109</td>\n",
       "      <td>0.029442</td>\n",
       "      <td>-0.559491</td>\n",
       "    </tr>\n",
       "  </tbody>\n",
       "</table>\n",
       "<p>100 rows × 42 columns</p>\n",
       "</div>"
      ],
      "text/plain": [
       "       ARI_1     ARI_2      ARVI     CRI_1     CRI_2       DVI        EVI  \\\n",
       "0  -0.062945 -0.108279  0.234300 -0.065647 -0.128593 -0.199707   0.102306   \n",
       "1  -0.081763 -0.139712  0.224136 -0.051108 -0.132871 -0.245361   0.114394   \n",
       "2  -0.078562 -0.133685  0.156079 -0.039564 -0.118126 -0.395264   0.175768   \n",
       "3   0.000882  0.003013  0.162228 -0.010190 -0.009307  0.729492 -14.067797   \n",
       "4  -0.037863 -0.067416 -0.005319 -0.026779 -0.064642 -0.605957   0.372762   \n",
       "..       ...       ...       ...       ...       ...       ...        ...   \n",
       "95 -0.060378 -0.227981  0.509099 -0.041061 -0.101440  1.830078  -2.642041   \n",
       "96 -0.053707 -0.094210  0.223083 -0.068999 -0.122705 -0.169678   0.092413   \n",
       "97 -0.044730 -0.080789  0.011139 -0.021725 -0.066455 -0.544189   0.341630   \n",
       "98 -0.015176 -0.029507 -0.061845 -0.015265 -0.030441 -0.604248   0.607601   \n",
       "99 -0.010707 -0.039700  0.225351 -0.006250 -0.016957  1.082520 -18.352650   \n",
       "\n",
       "        GARI       GCI      GDVI  ...      PSRI      RDVI      SAVI      SIPI  \\\n",
       "0   0.213949 -0.212297 -0.463623  ... -0.327823 -0.104673 -0.072355  5.270171   \n",
       "1   0.191005 -0.265274 -0.616943  ... -0.350700 -0.128203 -0.088411  4.550249   \n",
       "2   0.120093 -0.322182 -0.808838  ... -0.329258 -0.202804 -0.137928  3.162446   \n",
       "3   0.142689  0.274649  0.735840  ... -0.025636  0.295349  0.165779  0.693106   \n",
       "4  -0.028112 -0.321329 -0.843018  ... -0.182404 -0.296846 -0.194758  1.968574   \n",
       "..       ...       ...       ...  ...       ...       ...       ...       ...   \n",
       "95  0.461469  0.712546  1.571045  ... -0.245922  0.765082  0.441218  0.607924   \n",
       "96  0.214349 -0.182408 -0.391357  ... -0.309010 -0.088475 -0.060919  5.771223   \n",
       "97 -0.021856 -0.312326 -0.820312  ... -0.185104 -0.266923 -0.175300  2.073127   \n",
       "98 -0.080921 -0.266599 -0.706787  ... -0.084108 -0.285070 -0.181531  1.575758   \n",
       "99  0.195860  0.372650  1.006592  ... -0.046592  0.430161  0.237638  0.740189   \n",
       "\n",
       "        SR_1     TCARI      TDVI        TVI      VARI     WDRVI  \n",
       "0   0.895982  0.158350 -0.129161  10.556641  0.169782 -0.696070  \n",
       "1   0.874438  0.222949 -0.158764  14.863281  0.226522 -0.702291  \n",
       "2   0.811503  0.248145 -0.252982  16.542969  0.227230 -0.720725  \n",
       "3   1.271636 -0.003809  0.283973  -0.253906 -0.002432 -0.594480  \n",
       "4   0.746087  0.142236 -0.369330   9.482422  0.108334 -0.740315  \n",
       "..       ...       ...       ...        ...       ...       ...  \n",
       "95  1.940527  0.155420  0.671681  10.361328  0.150049 -0.440813  \n",
       "96  0.911802  0.133008 -0.108518   8.867188  0.142925 -0.691532  \n",
       "97  0.768464  0.165674 -0.330165  11.044922  0.126003 -0.733564  \n",
       "98  0.762908  0.061523 -0.346838   4.101562  0.042080 -0.735235  \n",
       "99  1.412350  0.045557  0.395307   3.037109  0.029442 -0.559491  \n",
       "\n",
       "[100 rows x 42 columns]"
      ]
     },
     "execution_count": 5,
     "metadata": {},
     "output_type": "execute_result"
    }
   ],
   "source": [
    "values"
   ]
  },
  {
   "cell_type": "markdown",
   "metadata": {},
   "source": [
    "## 4. Machine Learning Training"
   ]
  },
  {
   "cell_type": "markdown",
   "metadata": {},
   "source": [
    "Now that we have our data ready, let's build our machine learning model pipelines. We will explore two machine learning models, i.e., Support Vector Machine (SVM) and Random Forest (RF) classification here. Our target variable can be found in the point shapefile as the `Label` column. The independent variables will be the vegetation index values calculated in the last step."
   ]
  },
  {
   "cell_type": "markdown",
   "metadata": {},
   "source": [
    "We will utilize functionalities from `scikit-learn` to train the models. `scikit-learn` has an automatic `pipeline` feature that performs several tasks at once. Machine learning models also require **hyperparameter tuning** to fine tune the model. `scikit-learn` has a fetaure for automatically doing that as well using `GridSearchCV`. We will employ all these steps at once using the pipeline."
   ]
  },
  {
   "cell_type": "markdown",
   "metadata": {},
   "source": [
    "Therfore install the `scikit-learn` using either `pip` or `conda` in the same environment and import the following modules."
   ]
  },
  {
   "cell_type": "code",
   "execution_count": 21,
   "metadata": {},
   "outputs": [],
   "source": [
    "from sklearn.model_selection import train_test_split\n",
    "from sklearn.preprocessing import MinMaxScaler\n",
    "from sklearn.pipeline import Pipeline\n",
    "from sklearn.model_selection import GridSearchCV\n",
    "from sklearn.svm import SVC\n",
    "from sklearn.ensemble import RandomForestClassifier\n",
    "from sklearn.metrics import accuracy_score\n",
    "\n",
    "import geopandas as gpd\n",
    "import numpy as np"
   ]
  },
  {
   "cell_type": "code",
   "execution_count": 8,
   "metadata": {},
   "outputs": [],
   "source": [
    "# Read the shapefile to get the points shapefile\n",
    "# Note that the rows of this shapefile and the extracted values match\n",
    "shape = gpd.read_file(r\"F:\\raster4ml\\data\\landsat\\LC08_L1TP_137045_20210317_20210328_01_T1\\shapes\\points.shp\")"
   ]
  },
  {
   "cell_type": "code",
   "execution_count": 10,
   "metadata": {},
   "outputs": [
    {
     "data": {
      "text/html": [
       "<div>\n",
       "<style scoped>\n",
       "    .dataframe tbody tr th:only-of-type {\n",
       "        vertical-align: middle;\n",
       "    }\n",
       "\n",
       "    .dataframe tbody tr th {\n",
       "        vertical-align: top;\n",
       "    }\n",
       "\n",
       "    .dataframe thead th {\n",
       "        text-align: right;\n",
       "    }\n",
       "</style>\n",
       "<table border=\"1\" class=\"dataframe\">\n",
       "  <thead>\n",
       "    <tr style=\"text-align: right;\">\n",
       "      <th></th>\n",
       "      <th>Label</th>\n",
       "      <th>UID</th>\n",
       "      <th>geometry</th>\n",
       "    </tr>\n",
       "  </thead>\n",
       "  <tbody>\n",
       "    <tr>\n",
       "      <th>0</th>\n",
       "      <td>Water</td>\n",
       "      <td>0</td>\n",
       "      <td>POINT (193223.422 2349711.302)</td>\n",
       "    </tr>\n",
       "    <tr>\n",
       "      <th>1</th>\n",
       "      <td>Water</td>\n",
       "      <td>1</td>\n",
       "      <td>POINT (162754.153 2379518.334)</td>\n",
       "    </tr>\n",
       "    <tr>\n",
       "      <th>2</th>\n",
       "      <td>Water</td>\n",
       "      <td>2</td>\n",
       "      <td>POINT (124137.222 2358381.247)</td>\n",
       "    </tr>\n",
       "    <tr>\n",
       "      <th>3</th>\n",
       "      <td>Vegetation</td>\n",
       "      <td>3</td>\n",
       "      <td>POINT (224283.022 2424062.863)</td>\n",
       "    </tr>\n",
       "    <tr>\n",
       "      <th>4</th>\n",
       "      <td>Water</td>\n",
       "      <td>4</td>\n",
       "      <td>POINT (136454.441 2394163.347)</td>\n",
       "    </tr>\n",
       "  </tbody>\n",
       "</table>\n",
       "</div>"
      ],
      "text/plain": [
       "        Label  UID                        geometry\n",
       "0       Water    0  POINT (193223.422 2349711.302)\n",
       "1       Water    1  POINT (162754.153 2379518.334)\n",
       "2       Water    2  POINT (124137.222 2358381.247)\n",
       "3  Vegetation    3  POINT (224283.022 2424062.863)\n",
       "4       Water    4  POINT (136454.441 2394163.347)"
      ]
     },
     "execution_count": 10,
     "metadata": {},
     "output_type": "execute_result"
    }
   ],
   "source": [
    "shape.head()"
   ]
  },
  {
   "cell_type": "markdown",
   "metadata": {},
   "source": [
    "First, we need to split the dataset into training and testing set. "
   ]
  },
  {
   "cell_type": "code",
   "execution_count": 11,
   "metadata": {},
   "outputs": [
    {
     "name": "stdout",
     "output_type": "stream",
     "text": [
      "X_train shape: (70, 42)\n",
      "X_test shape: (30, 42)\n",
      "y_train shape: (70,)\n",
      "y_test shape: (30,)\n"
     ]
    }
   ],
   "source": [
    "X_train, X_test, y_train, y_test = train_test_split(values, shape['Label'].values, test_size=0.3, random_state=42)\n",
    "print('X_train shape:', X_train.shape)\n",
    "print('X_test shape:', X_test.shape)\n",
    "print('y_train shape:', y_train.shape)\n",
    "print('y_test shape:', y_test.shape)"
   ]
  },
  {
   "cell_type": "markdown",
   "metadata": {},
   "source": [
    "Then, we just need to define the `Pipeline`, `GridSearchCV` and the model to do the training."
   ]
  },
  {
   "cell_type": "code",
   "execution_count": 15,
   "metadata": {},
   "outputs": [
    {
     "data": {
      "text/html": [
       "<style>#sk-container-id-2 {color: black;background-color: white;}#sk-container-id-2 pre{padding: 0;}#sk-container-id-2 div.sk-toggleable {background-color: white;}#sk-container-id-2 label.sk-toggleable__label {cursor: pointer;display: block;width: 100%;margin-bottom: 0;padding: 0.3em;box-sizing: border-box;text-align: center;}#sk-container-id-2 label.sk-toggleable__label-arrow:before {content: \"▸\";float: left;margin-right: 0.25em;color: #696969;}#sk-container-id-2 label.sk-toggleable__label-arrow:hover:before {color: black;}#sk-container-id-2 div.sk-estimator:hover label.sk-toggleable__label-arrow:before {color: black;}#sk-container-id-2 div.sk-toggleable__content {max-height: 0;max-width: 0;overflow: hidden;text-align: left;background-color: #f0f8ff;}#sk-container-id-2 div.sk-toggleable__content pre {margin: 0.2em;color: black;border-radius: 0.25em;background-color: #f0f8ff;}#sk-container-id-2 input.sk-toggleable__control:checked~div.sk-toggleable__content {max-height: 200px;max-width: 100%;overflow: auto;}#sk-container-id-2 input.sk-toggleable__control:checked~label.sk-toggleable__label-arrow:before {content: \"▾\";}#sk-container-id-2 div.sk-estimator input.sk-toggleable__control:checked~label.sk-toggleable__label {background-color: #d4ebff;}#sk-container-id-2 div.sk-label input.sk-toggleable__control:checked~label.sk-toggleable__label {background-color: #d4ebff;}#sk-container-id-2 input.sk-hidden--visually {border: 0;clip: rect(1px 1px 1px 1px);clip: rect(1px, 1px, 1px, 1px);height: 1px;margin: -1px;overflow: hidden;padding: 0;position: absolute;width: 1px;}#sk-container-id-2 div.sk-estimator {font-family: monospace;background-color: #f0f8ff;border: 1px dotted black;border-radius: 0.25em;box-sizing: border-box;margin-bottom: 0.5em;}#sk-container-id-2 div.sk-estimator:hover {background-color: #d4ebff;}#sk-container-id-2 div.sk-parallel-item::after {content: \"\";width: 100%;border-bottom: 1px solid gray;flex-grow: 1;}#sk-container-id-2 div.sk-label:hover label.sk-toggleable__label {background-color: #d4ebff;}#sk-container-id-2 div.sk-serial::before {content: \"\";position: absolute;border-left: 1px solid gray;box-sizing: border-box;top: 0;bottom: 0;left: 50%;z-index: 0;}#sk-container-id-2 div.sk-serial {display: flex;flex-direction: column;align-items: center;background-color: white;padding-right: 0.2em;padding-left: 0.2em;position: relative;}#sk-container-id-2 div.sk-item {position: relative;z-index: 1;}#sk-container-id-2 div.sk-parallel {display: flex;align-items: stretch;justify-content: center;background-color: white;position: relative;}#sk-container-id-2 div.sk-item::before, #sk-container-id-2 div.sk-parallel-item::before {content: \"\";position: absolute;border-left: 1px solid gray;box-sizing: border-box;top: 0;bottom: 0;left: 50%;z-index: -1;}#sk-container-id-2 div.sk-parallel-item {display: flex;flex-direction: column;z-index: 1;position: relative;background-color: white;}#sk-container-id-2 div.sk-parallel-item:first-child::after {align-self: flex-end;width: 50%;}#sk-container-id-2 div.sk-parallel-item:last-child::after {align-self: flex-start;width: 50%;}#sk-container-id-2 div.sk-parallel-item:only-child::after {width: 0;}#sk-container-id-2 div.sk-dashed-wrapped {border: 1px dashed gray;margin: 0 0.4em 0.5em 0.4em;box-sizing: border-box;padding-bottom: 0.4em;background-color: white;}#sk-container-id-2 div.sk-label label {font-family: monospace;font-weight: bold;display: inline-block;line-height: 1.2em;}#sk-container-id-2 div.sk-label-container {text-align: center;}#sk-container-id-2 div.sk-container {/* jupyter's `normalize.less` sets `[hidden] { display: none; }` but bootstrap.min.css set `[hidden] { display: none !important; }` so we also need the `!important` here to be able to override the default hidden behavior on the sphinx rendered scikit-learn.org. See: https://github.com/scikit-learn/scikit-learn/issues/21755 */display: inline-block !important;position: relative;}#sk-container-id-2 div.sk-text-repr-fallback {display: none;}</style><div id=\"sk-container-id-2\" class=\"sk-top-container\"><div class=\"sk-text-repr-fallback\"><pre>GridSearchCV(cv=5,\n",
       "             estimator=Pipeline(steps=[(&#x27;scaler&#x27;, MinMaxScaler()),\n",
       "                                       (&#x27;model&#x27;, SVC())]),\n",
       "             n_jobs=4,\n",
       "             param_grid={&#x27;model__C&#x27;: [0.0009765625, 0.001953125, 0.00390625,\n",
       "                                      0.0078125, 0.015625, 0.03125, 0.0625,\n",
       "                                      0.125, 0.25, 0.5, 1.0, 2.0, 4.0, 8.0,\n",
       "                                      16.0, 32.0, 64.0],\n",
       "                         &#x27;model__gamma&#x27;: [0.0009765625, 0.001953125, 0.00390625,\n",
       "                                          0.0078125, 0.015625, 0.03125, 0.0625,\n",
       "                                          0.125, 0.25, 0.5, 1.0, 2.0, 4.0, 8.0,\n",
       "                                          16.0, 32.0, 64.0]})</pre><b>In a Jupyter environment, please rerun this cell to show the HTML representation or trust the notebook. <br />On GitHub, the HTML representation is unable to render, please try loading this page with nbviewer.org.</b></div><div class=\"sk-container\" hidden><div class=\"sk-item sk-dashed-wrapped\"><div class=\"sk-label-container\"><div class=\"sk-label sk-toggleable\"><input class=\"sk-toggleable__control sk-hidden--visually\" id=\"sk-estimator-id-5\" type=\"checkbox\" ><label for=\"sk-estimator-id-5\" class=\"sk-toggleable__label sk-toggleable__label-arrow\">GridSearchCV</label><div class=\"sk-toggleable__content\"><pre>GridSearchCV(cv=5,\n",
       "             estimator=Pipeline(steps=[(&#x27;scaler&#x27;, MinMaxScaler()),\n",
       "                                       (&#x27;model&#x27;, SVC())]),\n",
       "             n_jobs=4,\n",
       "             param_grid={&#x27;model__C&#x27;: [0.0009765625, 0.001953125, 0.00390625,\n",
       "                                      0.0078125, 0.015625, 0.03125, 0.0625,\n",
       "                                      0.125, 0.25, 0.5, 1.0, 2.0, 4.0, 8.0,\n",
       "                                      16.0, 32.0, 64.0],\n",
       "                         &#x27;model__gamma&#x27;: [0.0009765625, 0.001953125, 0.00390625,\n",
       "                                          0.0078125, 0.015625, 0.03125, 0.0625,\n",
       "                                          0.125, 0.25, 0.5, 1.0, 2.0, 4.0, 8.0,\n",
       "                                          16.0, 32.0, 64.0]})</pre></div></div></div><div class=\"sk-parallel\"><div class=\"sk-parallel-item\"><div class=\"sk-item\"><div class=\"sk-label-container\"><div class=\"sk-label sk-toggleable\"><input class=\"sk-toggleable__control sk-hidden--visually\" id=\"sk-estimator-id-6\" type=\"checkbox\" ><label for=\"sk-estimator-id-6\" class=\"sk-toggleable__label sk-toggleable__label-arrow\">estimator: Pipeline</label><div class=\"sk-toggleable__content\"><pre>Pipeline(steps=[(&#x27;scaler&#x27;, MinMaxScaler()), (&#x27;model&#x27;, SVC())])</pre></div></div></div><div class=\"sk-serial\"><div class=\"sk-item\"><div class=\"sk-serial\"><div class=\"sk-item\"><div class=\"sk-estimator sk-toggleable\"><input class=\"sk-toggleable__control sk-hidden--visually\" id=\"sk-estimator-id-7\" type=\"checkbox\" ><label for=\"sk-estimator-id-7\" class=\"sk-toggleable__label sk-toggleable__label-arrow\">MinMaxScaler</label><div class=\"sk-toggleable__content\"><pre>MinMaxScaler()</pre></div></div></div><div class=\"sk-item\"><div class=\"sk-estimator sk-toggleable\"><input class=\"sk-toggleable__control sk-hidden--visually\" id=\"sk-estimator-id-8\" type=\"checkbox\" ><label for=\"sk-estimator-id-8\" class=\"sk-toggleable__label sk-toggleable__label-arrow\">SVC</label><div class=\"sk-toggleable__content\"><pre>SVC()</pre></div></div></div></div></div></div></div></div></div></div></div></div>"
      ],
      "text/plain": [
       "GridSearchCV(cv=5,\n",
       "             estimator=Pipeline(steps=[('scaler', MinMaxScaler()),\n",
       "                                       ('model', SVC())]),\n",
       "             n_jobs=4,\n",
       "             param_grid={'model__C': [0.0009765625, 0.001953125, 0.00390625,\n",
       "                                      0.0078125, 0.015625, 0.03125, 0.0625,\n",
       "                                      0.125, 0.25, 0.5, 1.0, 2.0, 4.0, 8.0,\n",
       "                                      16.0, 32.0, 64.0],\n",
       "                         'model__gamma': [0.0009765625, 0.001953125, 0.00390625,\n",
       "                                          0.0078125, 0.015625, 0.03125, 0.0625,\n",
       "                                          0.125, 0.25, 0.5, 1.0, 2.0, 4.0, 8.0,\n",
       "                                          16.0, 32.0, 64.0]})"
      ]
     },
     "execution_count": 15,
     "metadata": {},
     "output_type": "execute_result"
    }
   ],
   "source": [
    "## Support Vector Machine\n",
    "\n",
    "# Define pipeline\n",
    "pipe_svc = Pipeline(steps=[('scaler', MinMaxScaler()), # Scaling the data from 0 to 1\n",
    "                           ('model', SVC())])\n",
    "\n",
    "# Define pipeline parameters\n",
    "# Note that we are only testing 2 hyperparameters, you can do even more or expand the search\n",
    "param_svc = {'model__gamma': [2**i for i in np.arange(-10, 7, 1, dtype='float')],\n",
    "             'model__C': [2**i for i in np.arange(-10, 7, 1, dtype='float')]}\n",
    "\n",
    "# Define grid\n",
    "grid_svc = GridSearchCV(estimator=pipe_svc,\n",
    "                        param_grid=param_svc,\n",
    "                        cv=5, # 5-fold cross validation\n",
    "                        n_jobs=4) # Paralelly using 4 CPU cores\n",
    "grid_svc.fit(X_train, y_train)"
   ]
  },
  {
   "cell_type": "code",
   "execution_count": 18,
   "metadata": {},
   "outputs": [
    {
     "name": "stderr",
     "output_type": "stream",
     "text": [
      "C:\\Users\\sbhadra\\.conda\\envs\\raster4ml_dev\\lib\\site-packages\\sklearn\\ensemble\\_forest.py:427: FutureWarning: `max_features='auto'` has been deprecated in 1.1 and will be removed in 1.3. To keep the past behaviour, explicitly set `max_features='sqrt'` or remove this parameter as it is also the default value for RandomForestClassifiers and ExtraTreesClassifiers.\n",
      "  warn(\n"
     ]
    },
    {
     "data": {
      "text/html": [
       "<style>#sk-container-id-3 {color: black;background-color: white;}#sk-container-id-3 pre{padding: 0;}#sk-container-id-3 div.sk-toggleable {background-color: white;}#sk-container-id-3 label.sk-toggleable__label {cursor: pointer;display: block;width: 100%;margin-bottom: 0;padding: 0.3em;box-sizing: border-box;text-align: center;}#sk-container-id-3 label.sk-toggleable__label-arrow:before {content: \"▸\";float: left;margin-right: 0.25em;color: #696969;}#sk-container-id-3 label.sk-toggleable__label-arrow:hover:before {color: black;}#sk-container-id-3 div.sk-estimator:hover label.sk-toggleable__label-arrow:before {color: black;}#sk-container-id-3 div.sk-toggleable__content {max-height: 0;max-width: 0;overflow: hidden;text-align: left;background-color: #f0f8ff;}#sk-container-id-3 div.sk-toggleable__content pre {margin: 0.2em;color: black;border-radius: 0.25em;background-color: #f0f8ff;}#sk-container-id-3 input.sk-toggleable__control:checked~div.sk-toggleable__content {max-height: 200px;max-width: 100%;overflow: auto;}#sk-container-id-3 input.sk-toggleable__control:checked~label.sk-toggleable__label-arrow:before {content: \"▾\";}#sk-container-id-3 div.sk-estimator input.sk-toggleable__control:checked~label.sk-toggleable__label {background-color: #d4ebff;}#sk-container-id-3 div.sk-label input.sk-toggleable__control:checked~label.sk-toggleable__label {background-color: #d4ebff;}#sk-container-id-3 input.sk-hidden--visually {border: 0;clip: rect(1px 1px 1px 1px);clip: rect(1px, 1px, 1px, 1px);height: 1px;margin: -1px;overflow: hidden;padding: 0;position: absolute;width: 1px;}#sk-container-id-3 div.sk-estimator {font-family: monospace;background-color: #f0f8ff;border: 1px dotted black;border-radius: 0.25em;box-sizing: border-box;margin-bottom: 0.5em;}#sk-container-id-3 div.sk-estimator:hover {background-color: #d4ebff;}#sk-container-id-3 div.sk-parallel-item::after {content: \"\";width: 100%;border-bottom: 1px solid gray;flex-grow: 1;}#sk-container-id-3 div.sk-label:hover label.sk-toggleable__label {background-color: #d4ebff;}#sk-container-id-3 div.sk-serial::before {content: \"\";position: absolute;border-left: 1px solid gray;box-sizing: border-box;top: 0;bottom: 0;left: 50%;z-index: 0;}#sk-container-id-3 div.sk-serial {display: flex;flex-direction: column;align-items: center;background-color: white;padding-right: 0.2em;padding-left: 0.2em;position: relative;}#sk-container-id-3 div.sk-item {position: relative;z-index: 1;}#sk-container-id-3 div.sk-parallel {display: flex;align-items: stretch;justify-content: center;background-color: white;position: relative;}#sk-container-id-3 div.sk-item::before, #sk-container-id-3 div.sk-parallel-item::before {content: \"\";position: absolute;border-left: 1px solid gray;box-sizing: border-box;top: 0;bottom: 0;left: 50%;z-index: -1;}#sk-container-id-3 div.sk-parallel-item {display: flex;flex-direction: column;z-index: 1;position: relative;background-color: white;}#sk-container-id-3 div.sk-parallel-item:first-child::after {align-self: flex-end;width: 50%;}#sk-container-id-3 div.sk-parallel-item:last-child::after {align-self: flex-start;width: 50%;}#sk-container-id-3 div.sk-parallel-item:only-child::after {width: 0;}#sk-container-id-3 div.sk-dashed-wrapped {border: 1px dashed gray;margin: 0 0.4em 0.5em 0.4em;box-sizing: border-box;padding-bottom: 0.4em;background-color: white;}#sk-container-id-3 div.sk-label label {font-family: monospace;font-weight: bold;display: inline-block;line-height: 1.2em;}#sk-container-id-3 div.sk-label-container {text-align: center;}#sk-container-id-3 div.sk-container {/* jupyter's `normalize.less` sets `[hidden] { display: none; }` but bootstrap.min.css set `[hidden] { display: none !important; }` so we also need the `!important` here to be able to override the default hidden behavior on the sphinx rendered scikit-learn.org. See: https://github.com/scikit-learn/scikit-learn/issues/21755 */display: inline-block !important;position: relative;}#sk-container-id-3 div.sk-text-repr-fallback {display: none;}</style><div id=\"sk-container-id-3\" class=\"sk-top-container\"><div class=\"sk-text-repr-fallback\"><pre>GridSearchCV(cv=5,\n",
       "             estimator=Pipeline(steps=[(&#x27;scaler&#x27;, MinMaxScaler()),\n",
       "                                       (&#x27;model&#x27;, RandomForestClassifier())]),\n",
       "             n_jobs=4,\n",
       "             param_grid={&#x27;model__max_features&#x27;: [&#x27;auto&#x27;, &#x27;sqrt&#x27;, &#x27;log2&#x27;],\n",
       "                         &#x27;model__n_estimators&#x27;: [1, 2, 4, 8, 16]})</pre><b>In a Jupyter environment, please rerun this cell to show the HTML representation or trust the notebook. <br />On GitHub, the HTML representation is unable to render, please try loading this page with nbviewer.org.</b></div><div class=\"sk-container\" hidden><div class=\"sk-item sk-dashed-wrapped\"><div class=\"sk-label-container\"><div class=\"sk-label sk-toggleable\"><input class=\"sk-toggleable__control sk-hidden--visually\" id=\"sk-estimator-id-9\" type=\"checkbox\" ><label for=\"sk-estimator-id-9\" class=\"sk-toggleable__label sk-toggleable__label-arrow\">GridSearchCV</label><div class=\"sk-toggleable__content\"><pre>GridSearchCV(cv=5,\n",
       "             estimator=Pipeline(steps=[(&#x27;scaler&#x27;, MinMaxScaler()),\n",
       "                                       (&#x27;model&#x27;, RandomForestClassifier())]),\n",
       "             n_jobs=4,\n",
       "             param_grid={&#x27;model__max_features&#x27;: [&#x27;auto&#x27;, &#x27;sqrt&#x27;, &#x27;log2&#x27;],\n",
       "                         &#x27;model__n_estimators&#x27;: [1, 2, 4, 8, 16]})</pre></div></div></div><div class=\"sk-parallel\"><div class=\"sk-parallel-item\"><div class=\"sk-item\"><div class=\"sk-label-container\"><div class=\"sk-label sk-toggleable\"><input class=\"sk-toggleable__control sk-hidden--visually\" id=\"sk-estimator-id-10\" type=\"checkbox\" ><label for=\"sk-estimator-id-10\" class=\"sk-toggleable__label sk-toggleable__label-arrow\">estimator: Pipeline</label><div class=\"sk-toggleable__content\"><pre>Pipeline(steps=[(&#x27;scaler&#x27;, MinMaxScaler()),\n",
       "                (&#x27;model&#x27;, RandomForestClassifier())])</pre></div></div></div><div class=\"sk-serial\"><div class=\"sk-item\"><div class=\"sk-serial\"><div class=\"sk-item\"><div class=\"sk-estimator sk-toggleable\"><input class=\"sk-toggleable__control sk-hidden--visually\" id=\"sk-estimator-id-11\" type=\"checkbox\" ><label for=\"sk-estimator-id-11\" class=\"sk-toggleable__label sk-toggleable__label-arrow\">MinMaxScaler</label><div class=\"sk-toggleable__content\"><pre>MinMaxScaler()</pre></div></div></div><div class=\"sk-item\"><div class=\"sk-estimator sk-toggleable\"><input class=\"sk-toggleable__control sk-hidden--visually\" id=\"sk-estimator-id-12\" type=\"checkbox\" ><label for=\"sk-estimator-id-12\" class=\"sk-toggleable__label sk-toggleable__label-arrow\">RandomForestClassifier</label><div class=\"sk-toggleable__content\"><pre>RandomForestClassifier()</pre></div></div></div></div></div></div></div></div></div></div></div></div>"
      ],
      "text/plain": [
       "GridSearchCV(cv=5,\n",
       "             estimator=Pipeline(steps=[('scaler', MinMaxScaler()),\n",
       "                                       ('model', RandomForestClassifier())]),\n",
       "             n_jobs=4,\n",
       "             param_grid={'model__max_features': ['auto', 'sqrt', 'log2'],\n",
       "                         'model__n_estimators': [1, 2, 4, 8, 16]})"
      ]
     },
     "execution_count": 18,
     "metadata": {},
     "output_type": "execute_result"
    }
   ],
   "source": [
    "## Random Forest Classifier\n",
    "\n",
    "# Define pipeline\n",
    "pipe_rfc = Pipeline(steps=[('scaler', MinMaxScaler()), # Scaling the data from 0 to 1\n",
    "                           ('model', RandomForestClassifier())])\n",
    "\n",
    "# Define pipeline parameters\n",
    "# Note that we are only testing 2 hyperparameters, you can do even more or expand the search\n",
    "param_rfc = {'model__n_estimators': [2**i for i in range(5)],\n",
    "             'model__max_features': ['sqrt', 'log2']}\n",
    "\n",
    "# Define grid\n",
    "grid_rfc = GridSearchCV(estimator=pipe_rfc,\n",
    "                        param_grid=param_rfc,\n",
    "                        cv=5, # 5-fold cross validation\n",
    "                        n_jobs=4) # Paralelly using 4 CPU cores\n",
    "grid_rfc.fit(X_train, y_train)"
   ]
  },
  {
   "cell_type": "markdown",
   "metadata": {},
   "source": [
    "Now that we have trained two models, lets check the accuracy score from both models. We can directly use the `grid` objects. If we directly predict from the `grid` object, then it picks out the model with the best hyperparameters and use that for prediction. You can also go into the `grid` object and examine which model to pick and so on. Please refer [here](https://scikit-learn.org/stable/modules/generated/sklearn.model_selection.GridSearchCV.html) to learn more."
   ]
  },
  {
   "cell_type": "code",
   "execution_count": 19,
   "metadata": {},
   "outputs": [],
   "source": [
    "# Predict the test set\n",
    "y_pred_svc = grid_svc.predict(X_test)\n",
    "y_pred_rfc = grid_rfc.predict(X_test)"
   ]
  },
  {
   "cell_type": "code",
   "execution_count": 22,
   "metadata": {},
   "outputs": [
    {
     "name": "stdout",
     "output_type": "stream",
     "text": [
      "Accuracy from SVC: 0.97\n",
      "Accuracy from RFC: 1.00\n"
     ]
    }
   ],
   "source": [
    "print(f\"Accuracy from SVC: {accuracy_score(y_test, y_pred_svc):.2f}\")\n",
    "print(f\"Accuracy from RFC: {accuracy_score(y_test, y_pred_rfc):.2f}\")"
   ]
  },
  {
   "cell_type": "code",
   "execution_count": null,
   "metadata": {},
   "outputs": [],
   "source": []
  }
 ],
 "metadata": {
  "kernelspec": {
   "display_name": "Python 3 (ipykernel)",
   "language": "python",
   "name": "python3"
  },
  "language_info": {
   "codemirror_mode": {
    "name": "ipython",
    "version": 3
   },
   "file_extension": ".py",
   "mimetype": "text/x-python",
   "name": "python",
   "nbconvert_exporter": "python",
   "pygments_lexer": "ipython3",
   "version": "3.10.5"
  },
  "vscode": {
   "interpreter": {
    "hash": "a6b2bfeec4f14ea1513f465b1670fd2ce75dbc710943decae6bdc8cd9e163f40"
   }
  }
 },
 "nbformat": 4,
 "nbformat_minor": 2
}
