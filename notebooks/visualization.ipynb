{
 "cells": [
  {
   "cell_type": "code",
   "execution_count": null,
   "metadata": {},
   "outputs": [],
   "source": [
    "import sys  \n",
    "sys.path.insert(0, r'F:\\raster4ml')"
   ]
  },
  {
   "cell_type": "code",
   "execution_count": null,
   "metadata": {},
   "outputs": [],
   "source": [
    "import os\n",
    "import folium\n",
    "import numpy as np\n",
    "import numpy.ma as ma\n",
    "import rasterio\n",
    "from raster4ml.preprocessing import reproject_raster\n",
    "from pyproj import Transformer\n",
    "import matplotlib.pyplot as plt"
   ]
  },
  {
   "cell_type": "code",
   "execution_count": null,
   "metadata": {},
   "outputs": [],
   "source": [
    "img_dir = r'F:\\raster4ml\\data\\landsat\\LC08_L1TP_137045_20210317_20210328_01_T1\\Stack.tif'\n",
    "bands = [3, 2, 1]"
   ]
  },
  {
   "cell_type": "code",
   "execution_count": null,
   "metadata": {},
   "outputs": [],
   "source": [
    "src = rasterio.open(img_dir)"
   ]
  },
  {
   "cell_type": "code",
   "execution_count": null,
   "metadata": {},
   "outputs": [],
   "source": [
    "src_crs = src.crs.to_epsg() # Get src crs\n",
    "dst_crs = 4326 # Destination crs (WGS 1984)\n",
    "\n",
    "# Projection Convert\n",
    "proj = Transformer.from_crs(src_crs, dst_crs, always_xy=True)\n",
    "min_lon, min_lat, max_lon, max_lat = src.bounds # Get bounds\n",
    "bound = [[min_lat, min_lon], [max_lat, max_lon]]\n",
    "bound_wgs = []\n",
    "for lat, lon in bound:\n",
    "    proj = Transformer.from_crs(src_crs, dst_crs, always_xy=True)\n",
    "    lon_x, lat_x = proj.transform(lon, lat)\n",
    "    bound_wgs.append([lat_x, lon_x])\n",
    "cen_lat, cen_lon = np.mean(np.array(bound_wgs), axis=0) # Center lat lon\n",
    "    \n"
   ]
  },
  {
   "cell_type": "code",
   "execution_count": null,
   "metadata": {},
   "outputs": [],
   "source": [
    "img = src.read()\n",
    "img = np.moveaxis(img, 0, 2)\n",
    "img = img[:, :, bands]"
   ]
  },
  {
   "cell_type": "code",
   "execution_count": null,
   "metadata": {},
   "outputs": [],
   "source": [
    "img = img.astype(np.float32)\n",
    "img[img==0.0] = np.nan"
   ]
  },
  {
   "cell_type": "code",
   "execution_count": null,
   "metadata": {},
   "outputs": [],
   "source": [
    "img = ma.masked_invalid(img)"
   ]
  },
  {
   "cell_type": "code",
   "execution_count": null,
   "metadata": {},
   "outputs": [],
   "source": [
    "img_norm = (img - img.min()) / (img.max() - img.min())\n",
    "img_norm = ma.filled(img_norm, fill_value=0.0)"
   ]
  },
  {
   "cell_type": "code",
   "execution_count": null,
   "metadata": {},
   "outputs": [],
   "source": [
    "mask = ma.getmask(img)\n",
    "mask = mask * 1\n",
    "mask = mask[:, :, 0]\n",
    "mask = np.abs(mask-1)"
   ]
  },
  {
   "cell_type": "code",
   "execution_count": null,
   "metadata": {},
   "outputs": [],
   "source": [
    "img_rgba = np.zeros(shape=(img.shape[0], img.shape[1], 4))"
   ]
  },
  {
   "cell_type": "code",
   "execution_count": null,
   "metadata": {},
   "outputs": [],
   "source": [
    "img_rgba[:, :, :3] = img_norm"
   ]
  },
  {
   "cell_type": "code",
   "execution_count": null,
   "metadata": {},
   "outputs": [],
   "source": [
    "img_rgba[:, :, 3] = mask"
   ]
  },
  {
   "cell_type": "code",
   "execution_count": null,
   "metadata": {},
   "outputs": [],
   "source": [
    "\"\"\"for i in range(4):\n",
    "    plt.imshow(img_cmap[:, :, i])\n",
    "    plt.colorbar()\n",
    "    plt.show()\"\"\""
   ]
  },
  {
   "cell_type": "code",
   "execution_count": null,
   "metadata": {},
   "outputs": [],
   "source": [
    "def colorize(array, cmap='viridis'):\n",
    "    normed_data = (array - array.min()) / (array.max() - array.min())    \n",
    "    cm = plt.cm.get_cmap(cmap)    \n",
    "    return cm(normed_data)"
   ]
  },
  {
   "cell_type": "code",
   "execution_count": null,
   "metadata": {},
   "outputs": [],
   "source": [
    "m = folium.Map(location=[cen_lat, cen_lon],\n",
    "               zoom_start=7)"
   ]
  },
  {
   "cell_type": "code",
   "execution_count": null,
   "metadata": {},
   "outputs": [],
   "source": [
    "folium.raster_layers.ImageOverlay(\n",
    "    name='Image',\n",
    "    image=img_rgba*20.0,\n",
    "    bounds=bound_wgs,\n",
    "    interactive=True,\n",
    ").add_to(m)\n",
    "folium.LayerControl().add_to(m)"
   ]
  },
  {
   "cell_type": "code",
   "execution_count": null,
   "metadata": {},
   "outputs": [],
   "source": [
    "bound_wgs"
   ]
  },
  {
   "cell_type": "code",
   "execution_count": null,
   "metadata": {},
   "outputs": [],
   "source": [
    "new_bound = [[25.580501113303256, 93.98474797298768],\n",
    " [27.75013948054664, 96.17508389240355]]"
   ]
  },
  {
   "cell_type": "code",
   "execution_count": null,
   "metadata": {},
   "outputs": [],
   "source": [
    "m.fit_bounds(new_bound)"
   ]
  },
  {
   "cell_type": "code",
   "execution_count": null,
   "metadata": {},
   "outputs": [],
   "source": [
    "m"
   ]
  },
  {
   "cell_type": "code",
   "execution_count": null,
   "metadata": {},
   "outputs": [],
   "source": []
  }
 ],
 "metadata": {
  "kernelspec": {
   "display_name": "Python 3.10.5 ('raster4ml_dev')",
   "language": "python",
   "name": "python3"
  },
  "language_info": {
   "codemirror_mode": {
    "name": "ipython",
    "version": 3
   },
   "file_extension": ".py",
   "mimetype": "text/x-python",
   "name": "python",
   "nbconvert_exporter": "python",
   "pygments_lexer": "ipython3",
   "version": "3.10.5"
  },
  "orig_nbformat": 4,
  "vscode": {
   "interpreter": {
    "hash": "a6b2bfeec4f14ea1513f465b1670fd2ce75dbc710943decae6bdc8cd9e163f40"
   }
  }
 },
 "nbformat": 4,
 "nbformat_minor": 2
}
