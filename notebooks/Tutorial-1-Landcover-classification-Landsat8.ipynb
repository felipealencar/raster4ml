{
 "cells": [
  {
   "cell_type": "markdown",
   "metadata": {},
   "source": [
    "# Tutorial 1: Landcover Classification using Landsat 8"
   ]
  },
  {
   "cell_type": "code",
   "execution_count": 1,
   "metadata": {},
   "outputs": [],
   "source": [
    "import sys  \n",
    "sys.path.insert(0, '/Users/sbhadra/raster4ml')"
   ]
  },
  {
   "cell_type": "code",
   "execution_count": 2,
   "metadata": {},
   "outputs": [],
   "source": [
    "import os\n",
    "import glob\n",
    "from raster4ml.preprocessing import stack_bands\n",
    "from raster4ml.plotting import plot_raster\n",
    "from raster4ml.features import VegetationIndices\n",
    "from raster4ml.extraction import batch_extract_values_by_points"
   ]
  },
  {
   "cell_type": "markdown",
   "metadata": {},
   "source": [
    "## 1. Stack the Bands"
   ]
  },
  {
   "cell_type": "markdown",
   "metadata": {},
   "source": [
    "First we need to stack all the bands together and make a multispectral image file. The mutispectral image will contain several channels/bands representing reflectance information from different wavelengths. Since the test dataset is downloaded from a Landsat 8 satellite, there are total 11 bands. However, we will only use the first 7 bands as they can accurately define most of the surface objects in terms of reflectance."
   ]
  },
  {
   "cell_type": "markdown",
   "metadata": {},
   "source": [
    "To stack the seperate bands into one image, we need to define the paths of all the bands in chronological order (actually any order you want, but remember the orders for future reference)."
   ]
  },
  {
   "cell_type": "code",
   "execution_count": 3,
   "metadata": {},
   "outputs": [
    {
     "data": {
      "text/plain": [
       "['/Users/sbhadra/raster4ml/data/LC08_L1TP_137045_20210317_20210328_01_T1/LC08_L1TP_137045_20210317_20210328_01_T1_B1.TIF',\n",
       " '/Users/sbhadra/raster4ml/data/LC08_L1TP_137045_20210317_20210328_01_T1/LC08_L1TP_137045_20210317_20210328_01_T1_B2.TIF',\n",
       " '/Users/sbhadra/raster4ml/data/LC08_L1TP_137045_20210317_20210328_01_T1/LC08_L1TP_137045_20210317_20210328_01_T1_B3.TIF',\n",
       " '/Users/sbhadra/raster4ml/data/LC08_L1TP_137045_20210317_20210328_01_T1/LC08_L1TP_137045_20210317_20210328_01_T1_B4.TIF',\n",
       " '/Users/sbhadra/raster4ml/data/LC08_L1TP_137045_20210317_20210328_01_T1/LC08_L1TP_137045_20210317_20210328_01_T1_B5.TIF',\n",
       " '/Users/sbhadra/raster4ml/data/LC08_L1TP_137045_20210317_20210328_01_T1/LC08_L1TP_137045_20210317_20210328_01_T1_B6.TIF',\n",
       " '/Users/sbhadra/raster4ml/data/LC08_L1TP_137045_20210317_20210328_01_T1/LC08_L1TP_137045_20210317_20210328_01_T1_B7.TIF']"
      ]
     },
     "execution_count": 3,
     "metadata": {},
     "output_type": "execute_result"
    }
   ],
   "source": [
    "# Filter all the files that ends with .TIF\n",
    "image_dir = '/Users/sbhadra/raster4ml/data/LC08_L1TP_137045_20210317_20210328_01_T1'\n",
    "\n",
    "# Empty list to hold the first 7 bands' paths\n",
    "bands_to_stack = []\n",
    "# Loop through 7 times\n",
    "for i in range(7):\n",
    "    bands_to_stack.append(os.path.join(image_dir,\n",
    "                                       f'LC08_L1TP_137045_20210317_20210328_01_T1_B{i+1}.TIF'))\n",
    "bands_to_stack"
   ]
  },
  {
   "cell_type": "code",
   "execution_count": 4,
   "metadata": {},
   "outputs": [],
   "source": [
    "# Use the stack_bands function from raster4ml to do the stacking\n",
    "stack_bands(image_paths=bands_to_stack,\n",
    "            out_file='/Users/sbhadra/raster4ml/data/LC08_L1TP_137045_20210317_20210328_01_T1/stack.tif')"
   ]
  },
  {
   "cell_type": "markdown",
   "metadata": {},
   "source": [
    "## 2. Calculate Vegetation Indices"
   ]
  },
  {
   "cell_type": "markdown",
   "metadata": {},
   "source": [
    "In next step, we need to calculate the vegetation indices from the stacked image. We can do this using `raster4ml.features.VegetationIndices` object. You can provide a list of vegetation index we need to calculate in the object, but the tool can automatically calcualte all the possible vegetation index rasters.  \n",
    "\n",
    "To do this, we need to provide the path of the stacked image, the corresponding wavelength values and an output directory to save all the indices as rasters. Since this is a Landsat 8 OLI image, we know the band wavelengths. The wavelengths can be inserted as either the `center_wavelengths` as list or the range of wavelengths per band in a list of list. The wavelengths has to be specified in nanometers (nm). The Landsat 8 OLI wavelengths can be seen [here](https://www.usgs.gov/faqs/what-are-band-designations-landsat-satellites).  \n",
    "\n",
    "*Optionally we can provide the `bit_depth` as a parameter. Since we know Landsat 8 data is a 12-bit data, we can provide this information to normalize the image values from 0 to 1."
   ]
  },
  {
   "cell_type": "code",
   "execution_count": 3,
   "metadata": {},
   "outputs": [],
   "source": [
    "# Define the VegetationIndices object\n",
    "VI = VegetationIndices(image_path='/Users/sbhadra/raster4ml/data/LC08_L1TP_137045_20210317_20210328_01_T1/stack.tif',\n",
    "                       wavelengths=[[430, 450], [450, 510], [530, 590], [640, 670], [850, 880], [1570, 1650], [2110, 2290]],\n",
    "                       bit_depth=12)"
   ]
  },
  {
   "cell_type": "code",
   "execution_count": 4,
   "metadata": {},
   "outputs": [
    {
     "name": "stdout",
     "output_type": "stream",
     "text": [
      "Calculating all features\n"
     ]
    },
    {
     "name": "stderr",
     "output_type": "stream",
     "text": [
      " 11%|█         | 6/56 [00:11<01:28,  1.78s/it]/Users/sbhadra/raster4ml/raster4ml/features.py:284: RuntimeWarning: divide by zero encountered in true_divide\n",
      "  return 2.5*((self.R850-self.R660)/(self.R850+(6.*self.R660)-(7.5*self.R475)+1.))\n",
      " 25%|██▌       | 14/56 [00:30<01:12,  1.73s/it]"
     ]
    },
    {
     "name": "stdout",
     "output_type": "stream",
     "text": [
      "'tuple' object has no attribute 'reshape'\n"
     ]
    },
    {
     "name": "stderr",
     "output_type": "stream",
     "text": [
      " 34%|███▍      | 19/56 [00:41<01:10,  1.91s/it]"
     ]
    },
    {
     "name": "stdout",
     "output_type": "stream",
     "text": [
      "unsupported operand type(s) for -: 'float' and 'NoneType'\n"
     ]
    },
    {
     "name": "stderr",
     "output_type": "stream",
     "text": [
      " 39%|███▉      | 22/56 [00:47<01:11,  2.09s/it]/Users/sbhadra/raster4ml/raster4ml/features.py:463: RuntimeWarning: invalid value encountered in true_divide\n",
      "  return (self.R750-self.R705)/(self.R750+self.R705-2.*self.R445)\n",
      " 41%|████      | 23/56 [00:50<01:11,  2.17s/it]/Users/sbhadra/raster4ml/raster4ml/features.py:475: RuntimeWarning: invalid value encountered in true_divide\n",
      "  return (self.R750-self.R445)/(self.R705-self.R445)\n",
      " 54%|█████▎    | 30/56 [01:06<00:56,  2.16s/it]"
     ]
    },
    {
     "name": "stdout",
     "output_type": "stream",
     "text": [
      "unsupported operand type(s) for /: 'NoneType' and 'float'\n"
     ]
    },
    {
     "name": "stderr",
     "output_type": "stream",
     "text": [
      " 62%|██████▎   | 35/56 [01:09<00:21,  1.01s/it]"
     ]
    },
    {
     "name": "stdout",
     "output_type": "stream",
     "text": [
      "unsupported operand type(s) for /: 'float' and 'NoneType'\n",
      "unsupported operand type(s) for -: 'float' and 'NoneType'\n",
      "unsupported operand type(s) for /: 'float' and 'NoneType'\n"
     ]
    },
    {
     "name": "stderr",
     "output_type": "stream",
     "text": [
      " 70%|██████▉   | 39/56 [01:14<00:16,  1.02it/s]"
     ]
    },
    {
     "name": "stdout",
     "output_type": "stream",
     "text": [
      "unsupported operand type(s) for -: 'float' and 'NoneType'\n"
     ]
    },
    {
     "name": "stderr",
     "output_type": "stream",
     "text": [
      " 84%|████████▍ | 47/56 [01:30<00:17,  1.95s/it]/Users/sbhadra/raster4ml/raster4ml/features.py:749: RuntimeWarning: divide by zero encountered in true_divide\n",
      "  return (self.R800-self.R445)/(self.R800-self.R680)\n",
      " 95%|█████████▍| 53/56 [01:43<00:05,  1.86s/it]/Users/sbhadra/raster4ml/raster4ml/features.py:815: RuntimeWarning: invalid value encountered in true_divide\n",
      "  return (self.R734-self.R747)/(self.R715-self.R726)\n",
      " 98%|█████████▊| 55/56 [01:45<00:01,  1.26s/it]"
     ]
    },
    {
     "name": "stdout",
     "output_type": "stream",
     "text": [
      "unsupported operand type(s) for /: 'NoneType' and 'float'\n"
     ]
    },
    {
     "name": "stderr",
     "output_type": "stream",
     "text": [
      "100%|██████████| 56/56 [01:47<00:00,  1.92s/it]"
     ]
    },
    {
     "name": "stdout",
     "output_type": "stream",
     "text": [
      "8 features could not be calculated.\n"
     ]
    },
    {
     "name": "stderr",
     "output_type": "stream",
     "text": [
      "\n"
     ]
    }
   ],
   "source": [
    "# Run the process while providing the output directory\n",
    "VI.calculate(out_dir='/Users/sbhadra/raster4ml/data/LC08_L1TP_137045_20210317_20210328_01_T1/VI')"
   ]
  },
  {
   "cell_type": "markdown",
   "metadata": {},
   "source": [
    "## 3. Extract Values based on Sample Points"
   ]
  },
  {
   "cell_type": "markdown",
   "metadata": {},
   "source": [
    "Locate the sample point shapefile in the `data/shapes` folder. The name of the shapefile is `points.shp`. We need to extract the vegetation index values underneath each point in the shapefile and store those index values for Machine Learning training. The shapefile also contains label information. For simplicity, it only has two distinct classes, i.e., `Vegetation` and `Water`.  \n",
    "\n",
    "For extraction by points, we can use the `raster4ml.extraction.batch_extract_values_by_points` function. This will enable extraction of multiple raster data at once. The function takes `image_paths` as a list, `shape_path` as a string, and a `unique_id` in the shapefile which uniquely represent each point. The function returns a pandas dataframe."
   ]
  },
  {
   "cell_type": "code",
   "execution_count": 3,
   "metadata": {},
   "outputs": [
    {
     "data": {
      "text/plain": [
       "['/Users/sbhadra/raster4ml/data/LC08_L1TP_137045_20210317_20210328_01_T1/VI/OSAVI.tif',\n",
       " '/Users/sbhadra/raster4ml/data/LC08_L1TP_137045_20210317_20210328_01_T1/VI/CRI_1.tif',\n",
       " '/Users/sbhadra/raster4ml/data/LC08_L1TP_137045_20210317_20210328_01_T1/VI/VARI.tif',\n",
       " '/Users/sbhadra/raster4ml/data/LC08_L1TP_137045_20210317_20210328_01_T1/VI/GDVI.tif',\n",
       " '/Users/sbhadra/raster4ml/data/LC08_L1TP_137045_20210317_20210328_01_T1/VI/NMDI.tif',\n",
       " '/Users/sbhadra/raster4ml/data/LC08_L1TP_137045_20210317_20210328_01_T1/VI/RENDVI.tif',\n",
       " '/Users/sbhadra/raster4ml/data/LC08_L1TP_137045_20210317_20210328_01_T1/VI/TVI.tif',\n",
       " '/Users/sbhadra/raster4ml/data/LC08_L1TP_137045_20210317_20210328_01_T1/VI/CRI_2.tif',\n",
       " '/Users/sbhadra/raster4ml/data/LC08_L1TP_137045_20210317_20210328_01_T1/VI/SR_1.tif',\n",
       " '/Users/sbhadra/raster4ml/data/LC08_L1TP_137045_20210317_20210328_01_T1/VI/GSAVI.tif',\n",
       " '/Users/sbhadra/raster4ml/data/LC08_L1TP_137045_20210317_20210328_01_T1/VI/GLI.tif',\n",
       " '/Users/sbhadra/raster4ml/data/LC08_L1TP_137045_20210317_20210328_01_T1/VI/NDSI.tif',\n",
       " '/Users/sbhadra/raster4ml/data/LC08_L1TP_137045_20210317_20210328_01_T1/VI/MSR.tif',\n",
       " '/Users/sbhadra/raster4ml/data/LC08_L1TP_137045_20210317_20210328_01_T1/VI/ARI_1.tif',\n",
       " '/Users/sbhadra/raster4ml/data/LC08_L1TP_137045_20210317_20210328_01_T1/VI/MNLI.tif',\n",
       " '/Users/sbhadra/raster4ml/data/LC08_L1TP_137045_20210317_20210328_01_T1/VI/VREI_2.tif',\n",
       " '/Users/sbhadra/raster4ml/data/LC08_L1TP_137045_20210317_20210328_01_T1/VI/SAVI.tif',\n",
       " '/Users/sbhadra/raster4ml/data/LC08_L1TP_137045_20210317_20210328_01_T1/VI/ARI_2.tif',\n",
       " '/Users/sbhadra/raster4ml/data/LC08_L1TP_137045_20210317_20210328_01_T1/VI/MSAVI_2.tif',\n",
       " '/Users/sbhadra/raster4ml/data/LC08_L1TP_137045_20210317_20210328_01_T1/VI/TCARI.tif',\n",
       " '/Users/sbhadra/raster4ml/data/LC08_L1TP_137045_20210317_20210328_01_T1/VI/VREI_1.tif',\n",
       " '/Users/sbhadra/raster4ml/data/LC08_L1TP_137045_20210317_20210328_01_T1/VI/NBR.tif',\n",
       " '/Users/sbhadra/raster4ml/data/LC08_L1TP_137045_20210317_20210328_01_T1/VI/IPVI.tif',\n",
       " '/Users/sbhadra/raster4ml/data/LC08_L1TP_137045_20210317_20210328_01_T1/VI/GEMI.tif',\n",
       " '/Users/sbhadra/raster4ml/data/LC08_L1TP_137045_20210317_20210328_01_T1/VI/MRESR.tif',\n",
       " '/Users/sbhadra/raster4ml/data/LC08_L1TP_137045_20210317_20210328_01_T1/VI/RDVI.tif',\n",
       " '/Users/sbhadra/raster4ml/data/LC08_L1TP_137045_20210317_20210328_01_T1/VI/DVI.tif',\n",
       " '/Users/sbhadra/raster4ml/data/LC08_L1TP_137045_20210317_20210328_01_T1/VI/MCARI.tif',\n",
       " '/Users/sbhadra/raster4ml/data/LC08_L1TP_137045_20210317_20210328_01_T1/VI/GRVI.tif',\n",
       " '/Users/sbhadra/raster4ml/data/LC08_L1TP_137045_20210317_20210328_01_T1/VI/NLI.tif',\n",
       " '/Users/sbhadra/raster4ml/data/LC08_L1TP_137045_20210317_20210328_01_T1/VI/MSI.tif',\n",
       " '/Users/sbhadra/raster4ml/data/LC08_L1TP_137045_20210317_20210328_01_T1/VI/GNDVI.tif',\n",
       " '/Users/sbhadra/raster4ml/data/LC08_L1TP_137045_20210317_20210328_01_T1/VI/NDII.tif',\n",
       " '/Users/sbhadra/raster4ml/data/LC08_L1TP_137045_20210317_20210328_01_T1/VI/PRI.tif',\n",
       " '/Users/sbhadra/raster4ml/data/LC08_L1TP_137045_20210317_20210328_01_T1/VI/WDRVI.tif',\n",
       " '/Users/sbhadra/raster4ml/data/LC08_L1TP_137045_20210317_20210328_01_T1/VI/MRENDVI.tif',\n",
       " '/Users/sbhadra/raster4ml/data/LC08_L1TP_137045_20210317_20210328_01_T1/VI/TDVI.tif',\n",
       " '/Users/sbhadra/raster4ml/data/LC08_L1TP_137045_20210317_20210328_01_T1/VI/NDBI.tif',\n",
       " '/Users/sbhadra/raster4ml/data/LC08_L1TP_137045_20210317_20210328_01_T1/VI/EVI.tif',\n",
       " '/Users/sbhadra/raster4ml/data/LC08_L1TP_137045_20210317_20210328_01_T1/VI/PSRI.tif',\n",
       " '/Users/sbhadra/raster4ml/data/LC08_L1TP_137045_20210317_20210328_01_T1/VI/MNDWI.tif',\n",
       " '/Users/sbhadra/raster4ml/data/LC08_L1TP_137045_20210317_20210328_01_T1/VI/GVI.tif',\n",
       " '/Users/sbhadra/raster4ml/data/LC08_L1TP_137045_20210317_20210328_01_T1/VI/MTVI.tif',\n",
       " '/Users/sbhadra/raster4ml/data/LC08_L1TP_137045_20210317_20210328_01_T1/VI/GCI.tif',\n",
       " '/Users/sbhadra/raster4ml/data/LC08_L1TP_137045_20210317_20210328_01_T1/VI/NDVI.tif',\n",
       " '/Users/sbhadra/raster4ml/data/LC08_L1TP_137045_20210317_20210328_01_T1/VI/SIPI.tif',\n",
       " '/Users/sbhadra/raster4ml/data/LC08_L1TP_137045_20210317_20210328_01_T1/VI/ARVI.tif',\n",
       " '/Users/sbhadra/raster4ml/data/LC08_L1TP_137045_20210317_20210328_01_T1/VI/GARI.tif']"
      ]
     },
     "execution_count": 3,
     "metadata": {},
     "output_type": "execute_result"
    }
   ],
   "source": [
    "# Find the paths of all the vegetation indices\n",
    "vi_paths = glob.glob('/Users/sbhadra/raster4ml/data/LC08_L1TP_137045_20210317_20210328_01_T1/VI/*.tif')\n",
    "vi_paths"
   ]
  },
  {
   "cell_type": "code",
   "execution_count": 4,
   "metadata": {},
   "outputs": [
    {
     "name": "stderr",
     "output_type": "stream",
     "text": [
      "  0%|          | 0/48 [00:00<?, ?it/s]ERROR 1: PROJ: proj_identify: /Users/sbhadra/opt/anaconda3/envs/raster4ml/share/proj/proj.db lacks DATABASE.LAYOUT.VERSION.MAJOR / DATABASE.LAYOUT.VERSION.MINOR metadata. It comes from another PROJ installation.\n",
      "  0%|          | 0/48 [00:00<?, ?it/s]\n"
     ]
    },
    {
     "ename": "ValueError",
     "evalue": "Must pass either crs or epsg.",
     "output_type": "error",
     "traceback": [
      "\u001b[0;31m---------------------------------------------------------------------------\u001b[0m",
      "\u001b[0;31mValueError\u001b[0m                                Traceback (most recent call last)",
      "\u001b[1;32m/Users/sbhadra/raster4ml/notebooks/Tutorial-1-Landcover-classification-Landsat8.ipynb Cell 16\u001b[0m in \u001b[0;36m<cell line: 2>\u001b[0;34m()\u001b[0m\n\u001b[1;32m      <a href='vscode-notebook-cell:/Users/sbhadra/raster4ml/notebooks/Tutorial-1-Landcover-classification-Landsat8.ipynb#ch0000066?line=0'>1</a>\u001b[0m \u001b[39m# Batch extract values by points\u001b[39;00m\n\u001b[0;32m----> <a href='vscode-notebook-cell:/Users/sbhadra/raster4ml/notebooks/Tutorial-1-Landcover-classification-Landsat8.ipynb#ch0000066?line=1'>2</a>\u001b[0m values \u001b[39m=\u001b[39m batch_extract_values_by_points(image_paths\u001b[39m=\u001b[39;49mvi_paths,\n\u001b[1;32m      <a href='vscode-notebook-cell:/Users/sbhadra/raster4ml/notebooks/Tutorial-1-Landcover-classification-Landsat8.ipynb#ch0000066?line=2'>3</a>\u001b[0m                                         shape_path\u001b[39m=\u001b[39;49m\u001b[39m'\u001b[39;49m\u001b[39m/Users/sbhadra/raster4ml/data/LC08_L1TP_137045_20210317_20210328_01_T1/shapes/points.shp\u001b[39;49m\u001b[39m'\u001b[39;49m,\n\u001b[1;32m      <a href='vscode-notebook-cell:/Users/sbhadra/raster4ml/notebooks/Tutorial-1-Landcover-classification-Landsat8.ipynb#ch0000066?line=3'>4</a>\u001b[0m                                         unique_id\u001b[39m=\u001b[39;49m\u001b[39m'\u001b[39;49m\u001b[39mUID\u001b[39;49m\u001b[39m'\u001b[39;49m)\n",
      "File \u001b[0;32m~/raster4ml/raster4ml/extraction.py:90\u001b[0m, in \u001b[0;36mbatch_extract_values_by_points\u001b[0;34m(image_paths, shape_path, unique_id)\u001b[0m\n\u001b[1;32m     88\u001b[0m pixel_values_df \u001b[39m=\u001b[39m []\n\u001b[1;32m     89\u001b[0m \u001b[39mfor\u001b[39;00m image_path \u001b[39min\u001b[39;00m tqdm(image_paths):\n\u001b[0;32m---> 90\u001b[0m     pixel_values \u001b[39m=\u001b[39m extract_values_by_points(image_path, shape_path, unique_id)\n\u001b[1;32m     91\u001b[0m     pixel_values_df\u001b[39m.\u001b[39mappend(pixel_values)\n\u001b[1;32m     92\u001b[0m pixel_values_df \u001b[39m=\u001b[39m pd\u001b[39m.\u001b[39mconcat(pixel_values_df, axis\u001b[39m=\u001b[39m\u001b[39m1\u001b[39m)\n",
      "File \u001b[0;32m~/raster4ml/raster4ml/extraction.py:54\u001b[0m, in \u001b[0;36mextract_values_by_points\u001b[0;34m(image_path, shape_path, unique_id)\u001b[0m\n\u001b[1;32m     51\u001b[0m image_name \u001b[39m=\u001b[39m os\u001b[39m.\u001b[39mpath\u001b[39m.\u001b[39mbasename(image_path)\u001b[39m.\u001b[39msplit(\u001b[39m'\u001b[39m\u001b[39m.\u001b[39m\u001b[39m'\u001b[39m)[\u001b[39m0\u001b[39m]\n\u001b[1;32m     53\u001b[0m \u001b[39m# Check if the CRS of shapefile and raster data matches or not\u001b[39;00m\n\u001b[0;32m---> 54\u001b[0m shape \u001b[39m=\u001b[39m utils\u001b[39m.\u001b[39;49mcheck_projection(src, shape)\n\u001b[1;32m     56\u001b[0m \u001b[39m# Check the type of geometry in shape\u001b[39;00m\n\u001b[1;32m     58\u001b[0m pixel_values \u001b[39m=\u001b[39m {}\n",
      "File \u001b[0;32m~/raster4ml/raster4ml/utils.py:68\u001b[0m, in \u001b[0;36mcheck_projection\u001b[0;34m(src, shape)\u001b[0m\n\u001b[1;32m     66\u001b[0m shape_epsg \u001b[39m=\u001b[39m shape\u001b[39m.\u001b[39mcrs\u001b[39m.\u001b[39mto_epsg()\n\u001b[1;32m     67\u001b[0m \u001b[39mif\u001b[39;00m shape_epsg \u001b[39m!=\u001b[39m raster_epsg:\n\u001b[0;32m---> 68\u001b[0m     shape\u001b[39m.\u001b[39;49mset_crs(epsg\u001b[39m=\u001b[39;49mraster_epsg)\n\u001b[1;32m     69\u001b[0m \u001b[39mreturn\u001b[39;00m shape\n",
      "File \u001b[0;32m~/opt/anaconda3/envs/raster4ml/lib/python3.9/site-packages/geopandas/geodataframe.py:1190\u001b[0m, in \u001b[0;36mGeoDataFrame.set_crs\u001b[0;34m(self, crs, epsg, inplace, allow_override)\u001b[0m\n\u001b[1;32m   1188\u001b[0m \u001b[39melse\u001b[39;00m:\n\u001b[1;32m   1189\u001b[0m     df \u001b[39m=\u001b[39m \u001b[39mself\u001b[39m\n\u001b[0;32m-> 1190\u001b[0m df\u001b[39m.\u001b[39mgeometry \u001b[39m=\u001b[39m df\u001b[39m.\u001b[39;49mgeometry\u001b[39m.\u001b[39;49mset_crs(\n\u001b[1;32m   1191\u001b[0m     crs\u001b[39m=\u001b[39;49mcrs, epsg\u001b[39m=\u001b[39;49mepsg, allow_override\u001b[39m=\u001b[39;49mallow_override, inplace\u001b[39m=\u001b[39;49m\u001b[39mTrue\u001b[39;49;00m\n\u001b[1;32m   1192\u001b[0m )\n\u001b[1;32m   1193\u001b[0m \u001b[39mreturn\u001b[39;00m df\n",
      "File \u001b[0;32m~/opt/anaconda3/envs/raster4ml/lib/python3.9/site-packages/geopandas/geoseries.py:1027\u001b[0m, in \u001b[0;36mGeoSeries.set_crs\u001b[0;34m(self, crs, epsg, inplace, allow_override)\u001b[0m\n\u001b[1;32m   1025\u001b[0m     crs \u001b[39m=\u001b[39m CRS\u001b[39m.\u001b[39mfrom_epsg(epsg)\n\u001b[1;32m   1026\u001b[0m \u001b[39melse\u001b[39;00m:\n\u001b[0;32m-> 1027\u001b[0m     \u001b[39mraise\u001b[39;00m \u001b[39mValueError\u001b[39;00m(\u001b[39m\"\u001b[39m\u001b[39mMust pass either crs or epsg.\u001b[39m\u001b[39m\"\u001b[39m)\n\u001b[1;32m   1029\u001b[0m \u001b[39mif\u001b[39;00m \u001b[39mnot\u001b[39;00m allow_override \u001b[39mand\u001b[39;00m \u001b[39mself\u001b[39m\u001b[39m.\u001b[39mcrs \u001b[39mis\u001b[39;00m \u001b[39mnot\u001b[39;00m \u001b[39mNone\u001b[39;00m \u001b[39mand\u001b[39;00m \u001b[39mnot\u001b[39;00m \u001b[39mself\u001b[39m\u001b[39m.\u001b[39mcrs \u001b[39m==\u001b[39m crs:\n\u001b[1;32m   1030\u001b[0m     \u001b[39mraise\u001b[39;00m \u001b[39mValueError\u001b[39;00m(\n\u001b[1;32m   1031\u001b[0m         \u001b[39m\"\u001b[39m\u001b[39mThe GeoSeries already has a CRS which is not equal to the passed \u001b[39m\u001b[39m\"\u001b[39m\n\u001b[1;32m   1032\u001b[0m         \u001b[39m\"\u001b[39m\u001b[39mCRS. Specify \u001b[39m\u001b[39m'\u001b[39m\u001b[39mallow_override=True\u001b[39m\u001b[39m'\u001b[39m\u001b[39m to allow replacing the existing \u001b[39m\u001b[39m\"\u001b[39m\n\u001b[1;32m   1033\u001b[0m         \u001b[39m\"\u001b[39m\u001b[39mCRS without doing any transformation. If you actually want to \u001b[39m\u001b[39m\"\u001b[39m\n\u001b[1;32m   1034\u001b[0m         \u001b[39m\"\u001b[39m\u001b[39mtransform the geometries, use \u001b[39m\u001b[39m'\u001b[39m\u001b[39mGeoSeries.to_crs\u001b[39m\u001b[39m'\u001b[39m\u001b[39m instead.\u001b[39m\u001b[39m\"\u001b[39m\n\u001b[1;32m   1035\u001b[0m     )\n",
      "\u001b[0;31mValueError\u001b[0m: Must pass either crs or epsg."
     ]
    }
   ],
   "source": [
    "# Batch extract values by points\n",
    "values = batch_extract_values_by_points(image_paths=vi_paths,\n",
    "                                        shape_path='/Users/sbhadra/raster4ml/data/LC08_L1TP_137045_20210317_20210328_01_T1/shapes/points.shp',\n",
    "                                        unique_id='UID')"
   ]
  },
  {
   "cell_type": "code",
   "execution_count": null,
   "metadata": {},
   "outputs": [],
   "source": []
  }
 ],
 "metadata": {
  "kernelspec": {
   "display_name": "Python 3.9.12 ('raster4ml')",
   "language": "python",
   "name": "python3"
  },
  "language_info": {
   "codemirror_mode": {
    "name": "ipython",
    "version": 3
   },
   "file_extension": ".py",
   "mimetype": "text/x-python",
   "name": "python",
   "nbconvert_exporter": "python",
   "pygments_lexer": "ipython3",
   "version": "3.9.12"
  },
  "orig_nbformat": 4,
  "vscode": {
   "interpreter": {
    "hash": "f9b7cf8be1734edc0cee063dd14351fecb3896c917664b7c1c2b3f0c8b50a398"
   }
  }
 },
 "nbformat": 4,
 "nbformat_minor": 2
}
